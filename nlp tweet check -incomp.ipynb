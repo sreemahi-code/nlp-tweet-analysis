{
 "cells": [
  {
   "cell_type": "code",
   "execution_count": 1,
   "metadata": {},
   "outputs": [
    {
     "name": "stdout",
     "output_type": "stream",
     "text": [
      "Requirement already satisfied: keras-core in c:\\users\\sreem\\appdata\\local\\programs\\python\\python312\\lib\\site-packages (0.1.7)\n",
      "Requirement already satisfied: absl-py in c:\\users\\sreem\\appdata\\local\\programs\\python\\python312\\lib\\site-packages (from keras-core) (2.1.0)\n",
      "Requirement already satisfied: numpy in c:\\users\\sreem\\appdata\\local\\programs\\python\\python312\\lib\\site-packages (from keras-core) (1.26.4)\n",
      "Requirement already satisfied: rich in c:\\users\\sreem\\appdata\\local\\programs\\python\\python312\\lib\\site-packages (from keras-core) (13.9.1)\n",
      "Requirement already satisfied: namex in c:\\users\\sreem\\appdata\\local\\programs\\python\\python312\\lib\\site-packages (from keras-core) (0.0.8)\n",
      "Requirement already satisfied: h5py in c:\\users\\sreem\\appdata\\local\\programs\\python\\python312\\lib\\site-packages (from keras-core) (3.12.1)\n",
      "Requirement already satisfied: dm-tree in c:\\users\\sreem\\appdata\\local\\programs\\python\\python312\\lib\\site-packages (from keras-core) (0.1.8)\n",
      "Requirement already satisfied: markdown-it-py>=2.2.0 in c:\\users\\sreem\\appdata\\local\\programs\\python\\python312\\lib\\site-packages (from rich->keras-core) (3.0.0)\n",
      "Requirement already satisfied: pygments<3.0.0,>=2.13.0 in c:\\users\\sreem\\appdata\\roaming\\python\\python312\\site-packages (from rich->keras-core) (2.18.0)\n",
      "Requirement already satisfied: mdurl~=0.1 in c:\\users\\sreem\\appdata\\local\\programs\\python\\python312\\lib\\site-packages (from markdown-it-py>=2.2.0->rich->keras-core) (0.1.2)\n"
     ]
    }
   ],
   "source": [
    "!pip install keras-core --upgrade\n",
    "!pip install -q keras-nlp --upgrade\n",
    "import os \n",
    "os.environ['KERAS_BACKEND'] = 'tensorflow'\n"
   ]
  },
  {
   "cell_type": "code",
   "execution_count": 2,
   "metadata": {},
   "outputs": [
    {
     "name": "stdout",
     "output_type": "stream",
     "text": [
      "Requirement already satisfied: tensorflow in c:\\users\\sreem\\appdata\\local\\programs\\python\\python312\\lib\\site-packages (2.17.0)\n",
      "Requirement already satisfied: tensorflow-intel==2.17.0 in c:\\users\\sreem\\appdata\\local\\programs\\python\\python312\\lib\\site-packages (from tensorflow) (2.17.0)\n",
      "Requirement already satisfied: absl-py>=1.0.0 in c:\\users\\sreem\\appdata\\local\\programs\\python\\python312\\lib\\site-packages (from tensorflow-intel==2.17.0->tensorflow) (2.1.0)\n",
      "Requirement already satisfied: astunparse>=1.6.0 in c:\\users\\sreem\\appdata\\local\\programs\\python\\python312\\lib\\site-packages (from tensorflow-intel==2.17.0->tensorflow) (1.6.3)\n",
      "Requirement already satisfied: flatbuffers>=24.3.25 in c:\\users\\sreem\\appdata\\local\\programs\\python\\python312\\lib\\site-packages (from tensorflow-intel==2.17.0->tensorflow) (24.3.25)\n",
      "Requirement already satisfied: gast!=0.5.0,!=0.5.1,!=0.5.2,>=0.2.1 in c:\\users\\sreem\\appdata\\local\\programs\\python\\python312\\lib\\site-packages (from tensorflow-intel==2.17.0->tensorflow) (0.6.0)\n",
      "Requirement already satisfied: google-pasta>=0.1.1 in c:\\users\\sreem\\appdata\\local\\programs\\python\\python312\\lib\\site-packages (from tensorflow-intel==2.17.0->tensorflow) (0.2.0)\n",
      "Requirement already satisfied: h5py>=3.10.0 in c:\\users\\sreem\\appdata\\local\\programs\\python\\python312\\lib\\site-packages (from tensorflow-intel==2.17.0->tensorflow) (3.12.1)\n",
      "Requirement already satisfied: libclang>=13.0.0 in c:\\users\\sreem\\appdata\\local\\programs\\python\\python312\\lib\\site-packages (from tensorflow-intel==2.17.0->tensorflow) (18.1.1)\n",
      "Requirement already satisfied: ml-dtypes<0.5.0,>=0.3.1 in c:\\users\\sreem\\appdata\\local\\programs\\python\\python312\\lib\\site-packages (from tensorflow-intel==2.17.0->tensorflow) (0.4.1)\n",
      "Requirement already satisfied: opt-einsum>=2.3.2 in c:\\users\\sreem\\appdata\\local\\programs\\python\\python312\\lib\\site-packages (from tensorflow-intel==2.17.0->tensorflow) (3.4.0)\n",
      "Requirement already satisfied: packaging in c:\\users\\sreem\\appdata\\roaming\\python\\python312\\site-packages (from tensorflow-intel==2.17.0->tensorflow) (24.0)\n",
      "Requirement already satisfied: protobuf!=4.21.0,!=4.21.1,!=4.21.2,!=4.21.3,!=4.21.4,!=4.21.5,<5.0.0dev,>=3.20.3 in c:\\users\\sreem\\appdata\\local\\programs\\python\\python312\\lib\\site-packages (from tensorflow-intel==2.17.0->tensorflow) (4.25.5)\n",
      "Requirement already satisfied: requests<3,>=2.21.0 in c:\\users\\sreem\\appdata\\local\\programs\\python\\python312\\lib\\site-packages (from tensorflow-intel==2.17.0->tensorflow) (2.32.3)\n",
      "Requirement already satisfied: setuptools in c:\\users\\sreem\\appdata\\local\\programs\\python\\python312\\lib\\site-packages (from tensorflow-intel==2.17.0->tensorflow) (75.1.0)\n",
      "Requirement already satisfied: six>=1.12.0 in c:\\users\\sreem\\appdata\\roaming\\python\\python312\\site-packages (from tensorflow-intel==2.17.0->tensorflow) (1.16.0)\n",
      "Requirement already satisfied: termcolor>=1.1.0 in c:\\users\\sreem\\appdata\\local\\programs\\python\\python312\\lib\\site-packages (from tensorflow-intel==2.17.0->tensorflow) (2.4.0)\n",
      "Requirement already satisfied: typing-extensions>=3.6.6 in c:\\users\\sreem\\appdata\\local\\programs\\python\\python312\\lib\\site-packages (from tensorflow-intel==2.17.0->tensorflow) (4.12.1)\n",
      "Requirement already satisfied: wrapt>=1.11.0 in c:\\users\\sreem\\appdata\\local\\programs\\python\\python312\\lib\\site-packages (from tensorflow-intel==2.17.0->tensorflow) (1.16.0)\n",
      "Requirement already satisfied: grpcio<2.0,>=1.24.3 in c:\\users\\sreem\\appdata\\local\\programs\\python\\python312\\lib\\site-packages (from tensorflow-intel==2.17.0->tensorflow) (1.66.2)\n",
      "Requirement already satisfied: tensorboard<2.18,>=2.17 in c:\\users\\sreem\\appdata\\local\\programs\\python\\python312\\lib\\site-packages (from tensorflow-intel==2.17.0->tensorflow) (2.17.1)\n",
      "Requirement already satisfied: keras>=3.2.0 in c:\\users\\sreem\\appdata\\local\\programs\\python\\python312\\lib\\site-packages (from tensorflow-intel==2.17.0->tensorflow) (3.5.0)\n",
      "Requirement already satisfied: numpy<2.0.0,>=1.26.0 in c:\\users\\sreem\\appdata\\local\\programs\\python\\python312\\lib\\site-packages (from tensorflow-intel==2.17.0->tensorflow) (1.26.4)\n",
      "Requirement already satisfied: wheel<1.0,>=0.23.0 in c:\\users\\sreem\\appdata\\local\\programs\\python\\python312\\lib\\site-packages (from astunparse>=1.6.0->tensorflow-intel==2.17.0->tensorflow) (0.44.0)\n",
      "Requirement already satisfied: rich in c:\\users\\sreem\\appdata\\local\\programs\\python\\python312\\lib\\site-packages (from keras>=3.2.0->tensorflow-intel==2.17.0->tensorflow) (13.9.1)\n",
      "Requirement already satisfied: namex in c:\\users\\sreem\\appdata\\local\\programs\\python\\python312\\lib\\site-packages (from keras>=3.2.0->tensorflow-intel==2.17.0->tensorflow) (0.0.8)\n",
      "Requirement already satisfied: optree in c:\\users\\sreem\\appdata\\local\\programs\\python\\python312\\lib\\site-packages (from keras>=3.2.0->tensorflow-intel==2.17.0->tensorflow) (0.12.1)\n",
      "Requirement already satisfied: charset-normalizer<4,>=2 in c:\\users\\sreem\\appdata\\local\\programs\\python\\python312\\lib\\site-packages (from requests<3,>=2.21.0->tensorflow-intel==2.17.0->tensorflow) (3.3.2)\n",
      "Requirement already satisfied: idna<4,>=2.5 in c:\\users\\sreem\\appdata\\local\\programs\\python\\python312\\lib\\site-packages (from requests<3,>=2.21.0->tensorflow-intel==2.17.0->tensorflow) (3.7)\n",
      "Requirement already satisfied: urllib3<3,>=1.21.1 in c:\\users\\sreem\\appdata\\local\\programs\\python\\python312\\lib\\site-packages (from requests<3,>=2.21.0->tensorflow-intel==2.17.0->tensorflow) (2.2.1)\n",
      "Requirement already satisfied: certifi>=2017.4.17 in c:\\users\\sreem\\appdata\\local\\programs\\python\\python312\\lib\\site-packages (from requests<3,>=2.21.0->tensorflow-intel==2.17.0->tensorflow) (2024.6.2)\n",
      "Requirement already satisfied: markdown>=2.6.8 in c:\\users\\sreem\\appdata\\local\\programs\\python\\python312\\lib\\site-packages (from tensorboard<2.18,>=2.17->tensorflow-intel==2.17.0->tensorflow) (3.7)\n",
      "Requirement already satisfied: tensorboard-data-server<0.8.0,>=0.7.0 in c:\\users\\sreem\\appdata\\local\\programs\\python\\python312\\lib\\site-packages (from tensorboard<2.18,>=2.17->tensorflow-intel==2.17.0->tensorflow) (0.7.2)\n",
      "Requirement already satisfied: werkzeug>=1.0.1 in c:\\users\\sreem\\appdata\\local\\programs\\python\\python312\\lib\\site-packages (from tensorboard<2.18,>=2.17->tensorflow-intel==2.17.0->tensorflow) (3.0.4)\n",
      "Requirement already satisfied: MarkupSafe>=2.1.1 in c:\\users\\sreem\\appdata\\local\\programs\\python\\python312\\lib\\site-packages (from werkzeug>=1.0.1->tensorboard<2.18,>=2.17->tensorflow-intel==2.17.0->tensorflow) (2.1.5)\n",
      "Requirement already satisfied: markdown-it-py>=2.2.0 in c:\\users\\sreem\\appdata\\local\\programs\\python\\python312\\lib\\site-packages (from rich->keras>=3.2.0->tensorflow-intel==2.17.0->tensorflow) (3.0.0)\n",
      "Requirement already satisfied: pygments<3.0.0,>=2.13.0 in c:\\users\\sreem\\appdata\\roaming\\python\\python312\\site-packages (from rich->keras>=3.2.0->tensorflow-intel==2.17.0->tensorflow) (2.18.0)\n",
      "Requirement already satisfied: mdurl~=0.1 in c:\\users\\sreem\\appdata\\local\\programs\\python\\python312\\lib\\site-packages (from markdown-it-py>=2.2.0->rich->keras>=3.2.0->tensorflow-intel==2.17.0->tensorflow) (0.1.2)\n"
     ]
    }
   ],
   "source": [
    "!pip install tensorflow"
   ]
  },
  {
   "cell_type": "code",
   "execution_count": 3,
   "metadata": {},
   "outputs": [
    {
     "name": "stdout",
     "output_type": "stream",
     "text": [
      "Requirement already satisfied: setuptools in c:\\users\\sreem\\appdata\\local\\programs\\python\\python312\\lib\\site-packages (75.1.0)\n",
      "Note: you may need to restart the kernel to use updated packages.\n"
     ]
    }
   ],
   "source": [
    "pip install --upgrade setuptools"
   ]
  },
  {
   "cell_type": "code",
   "execution_count": 4,
   "metadata": {},
   "outputs": [
    {
     "name": "stdout",
     "output_type": "stream",
     "text": [
      "Requirement already satisfied: seaborn in c:\\users\\sreem\\appdata\\local\\programs\\python\\python312\\lib\\site-packages (0.13.2)\n",
      "Requirement already satisfied: numpy!=1.24.0,>=1.20 in c:\\users\\sreem\\appdata\\local\\programs\\python\\python312\\lib\\site-packages (from seaborn) (1.26.4)\n",
      "Requirement already satisfied: pandas>=1.2 in c:\\users\\sreem\\appdata\\local\\programs\\python\\python312\\lib\\site-packages (from seaborn) (2.2.2)\n",
      "Requirement already satisfied: matplotlib!=3.6.1,>=3.4 in c:\\users\\sreem\\appdata\\local\\programs\\python\\python312\\lib\\site-packages (from seaborn) (3.9.0)\n",
      "Requirement already satisfied: contourpy>=1.0.1 in c:\\users\\sreem\\appdata\\local\\programs\\python\\python312\\lib\\site-packages (from matplotlib!=3.6.1,>=3.4->seaborn) (1.2.1)\n",
      "Requirement already satisfied: cycler>=0.10 in c:\\users\\sreem\\appdata\\local\\programs\\python\\python312\\lib\\site-packages (from matplotlib!=3.6.1,>=3.4->seaborn) (0.12.1)\n",
      "Requirement already satisfied: fonttools>=4.22.0 in c:\\users\\sreem\\appdata\\local\\programs\\python\\python312\\lib\\site-packages (from matplotlib!=3.6.1,>=3.4->seaborn) (4.53.0)\n",
      "Requirement already satisfied: kiwisolver>=1.3.1 in c:\\users\\sreem\\appdata\\local\\programs\\python\\python312\\lib\\site-packages (from matplotlib!=3.6.1,>=3.4->seaborn) (1.4.5)\n",
      "Requirement already satisfied: packaging>=20.0 in c:\\users\\sreem\\appdata\\roaming\\python\\python312\\site-packages (from matplotlib!=3.6.1,>=3.4->seaborn) (24.0)\n",
      "Requirement already satisfied: pillow>=8 in c:\\users\\sreem\\appdata\\local\\programs\\python\\python312\\lib\\site-packages (from matplotlib!=3.6.1,>=3.4->seaborn) (10.3.0)\n",
      "Requirement already satisfied: pyparsing>=2.3.1 in c:\\users\\sreem\\appdata\\local\\programs\\python\\python312\\lib\\site-packages (from matplotlib!=3.6.1,>=3.4->seaborn) (3.1.2)\n",
      "Requirement already satisfied: python-dateutil>=2.7 in c:\\users\\sreem\\appdata\\roaming\\python\\python312\\site-packages (from matplotlib!=3.6.1,>=3.4->seaborn) (2.9.0.post0)\n",
      "Requirement already satisfied: pytz>=2020.1 in c:\\users\\sreem\\appdata\\local\\programs\\python\\python312\\lib\\site-packages (from pandas>=1.2->seaborn) (2024.1)\n",
      "Requirement already satisfied: tzdata>=2022.7 in c:\\users\\sreem\\appdata\\local\\programs\\python\\python312\\lib\\site-packages (from pandas>=1.2->seaborn) (2024.1)\n",
      "Requirement already satisfied: six>=1.5 in c:\\users\\sreem\\appdata\\roaming\\python\\python312\\site-packages (from python-dateutil>=2.7->matplotlib!=3.6.1,>=3.4->seaborn) (1.16.0)\n",
      "Note: you may need to restart the kernel to use updated packages.\n"
     ]
    }
   ],
   "source": [
    "pip install seaborn "
   ]
  },
  {
   "cell_type": "code",
   "execution_count": 5,
   "metadata": {},
   "outputs": [
    {
     "name": "stdout",
     "output_type": "stream",
     "text": [
      "Using TensorFlow backend\n",
      "Tensorflow version 2.17.0\n"
     ]
    }
   ],
   "source": [
    "import numpy as np \n",
    "import pandas as pd\n",
    "import tensorflow as tf\n",
    "import keras_core as keras\n",
    "import keras_nlp \n",
    "from sklearn.metrics import ConfusionMatrixDisplay, confusion_matrix\n",
    "import seaborn as sns\n",
    "import matplotlib.pyplot as plt\n",
    "print(\"Tensorflow version\", tf.__version__)\n",
    "#print(\"KerasNLP version:\", keras_nlp.__version__)"
   ]
  },
  {
   "cell_type": "code",
   "execution_count": 6,
   "metadata": {},
   "outputs": [
    {
     "name": "stdout",
     "output_type": "stream",
     "text": [
      "Training Set Shape  = (7613, 5)\n",
      "Training Set Memory Usage=0.29 MB\n",
      "Test Set Memory Usage = 0.10 MB\n"
     ]
    }
   ],
   "source": [
    "df_train = pd.read_csv(r\"C:\\Users\\sreem\\OneDrive\\Documents\\NLP getting started\\train.csv\")\n",
    "df_test = pd.read_csv(r\"C:\\Users\\sreem\\OneDrive\\Documents\\NLP getting started\\test.csv\")\n",
    "print('Training Set Shape  = {}'.format(df_train.shape))\n",
    "print('Training Set Memory Usage={:.2f} MB'.format(df_train.memory_usage().sum()/1024**2))\n",
    "print('Test Set Memory Usage = {:.2f} MB'.format(df_test.memory_usage().sum() / 1024**2))"
   ]
  },
  {
   "cell_type": "code",
   "execution_count": 7,
   "metadata": {},
   "outputs": [
    {
     "data": {
      "text/html": [
       "<div>\n",
       "<style scoped>\n",
       "    .dataframe tbody tr th:only-of-type {\n",
       "        vertical-align: middle;\n",
       "    }\n",
       "\n",
       "    .dataframe tbody tr th {\n",
       "        vertical-align: top;\n",
       "    }\n",
       "\n",
       "    .dataframe thead th {\n",
       "        text-align: right;\n",
       "    }\n",
       "</style>\n",
       "<table border=\"1\" class=\"dataframe\">\n",
       "  <thead>\n",
       "    <tr style=\"text-align: right;\">\n",
       "      <th></th>\n",
       "      <th>id</th>\n",
       "      <th>keyword</th>\n",
       "      <th>location</th>\n",
       "      <th>text</th>\n",
       "      <th>target</th>\n",
       "    </tr>\n",
       "  </thead>\n",
       "  <tbody>\n",
       "    <tr>\n",
       "      <th>0</th>\n",
       "      <td>1</td>\n",
       "      <td>NaN</td>\n",
       "      <td>NaN</td>\n",
       "      <td>Our Deeds are the Reason of this #earthquake M...</td>\n",
       "      <td>1</td>\n",
       "    </tr>\n",
       "    <tr>\n",
       "      <th>1</th>\n",
       "      <td>4</td>\n",
       "      <td>NaN</td>\n",
       "      <td>NaN</td>\n",
       "      <td>Forest fire near La Ronge Sask. Canada</td>\n",
       "      <td>1</td>\n",
       "    </tr>\n",
       "    <tr>\n",
       "      <th>2</th>\n",
       "      <td>5</td>\n",
       "      <td>NaN</td>\n",
       "      <td>NaN</td>\n",
       "      <td>All residents asked to 'shelter in place' are ...</td>\n",
       "      <td>1</td>\n",
       "    </tr>\n",
       "    <tr>\n",
       "      <th>3</th>\n",
       "      <td>6</td>\n",
       "      <td>NaN</td>\n",
       "      <td>NaN</td>\n",
       "      <td>13,000 people receive #wildfires evacuation or...</td>\n",
       "      <td>1</td>\n",
       "    </tr>\n",
       "    <tr>\n",
       "      <th>4</th>\n",
       "      <td>7</td>\n",
       "      <td>NaN</td>\n",
       "      <td>NaN</td>\n",
       "      <td>Just got sent this photo from Ruby #Alaska as ...</td>\n",
       "      <td>1</td>\n",
       "    </tr>\n",
       "  </tbody>\n",
       "</table>\n",
       "</div>"
      ],
      "text/plain": [
       "   id keyword location                                               text  \\\n",
       "0   1     NaN      NaN  Our Deeds are the Reason of this #earthquake M...   \n",
       "1   4     NaN      NaN             Forest fire near La Ronge Sask. Canada   \n",
       "2   5     NaN      NaN  All residents asked to 'shelter in place' are ...   \n",
       "3   6     NaN      NaN  13,000 people receive #wildfires evacuation or...   \n",
       "4   7     NaN      NaN  Just got sent this photo from Ruby #Alaska as ...   \n",
       "\n",
       "   target  \n",
       "0       1  \n",
       "1       1  \n",
       "2       1  \n",
       "3       1  \n",
       "4       1  "
      ]
     },
     "execution_count": 7,
     "metadata": {},
     "output_type": "execute_result"
    }
   ],
   "source": [
    "df_train.head()"
   ]
  },
  {
   "cell_type": "code",
   "execution_count": 8,
   "metadata": {},
   "outputs": [
    {
     "data": {
      "text/html": [
       "<div>\n",
       "<style scoped>\n",
       "    .dataframe tbody tr th:only-of-type {\n",
       "        vertical-align: middle;\n",
       "    }\n",
       "\n",
       "    .dataframe tbody tr th {\n",
       "        vertical-align: top;\n",
       "    }\n",
       "\n",
       "    .dataframe thead th {\n",
       "        text-align: right;\n",
       "    }\n",
       "</style>\n",
       "<table border=\"1\" class=\"dataframe\">\n",
       "  <thead>\n",
       "    <tr style=\"text-align: right;\">\n",
       "      <th></th>\n",
       "      <th>id</th>\n",
       "      <th>keyword</th>\n",
       "      <th>location</th>\n",
       "      <th>text</th>\n",
       "    </tr>\n",
       "  </thead>\n",
       "  <tbody>\n",
       "    <tr>\n",
       "      <th>0</th>\n",
       "      <td>0</td>\n",
       "      <td>NaN</td>\n",
       "      <td>NaN</td>\n",
       "      <td>Just happened a terrible car crash</td>\n",
       "    </tr>\n",
       "    <tr>\n",
       "      <th>1</th>\n",
       "      <td>2</td>\n",
       "      <td>NaN</td>\n",
       "      <td>NaN</td>\n",
       "      <td>Heard about #earthquake is different cities, s...</td>\n",
       "    </tr>\n",
       "    <tr>\n",
       "      <th>2</th>\n",
       "      <td>3</td>\n",
       "      <td>NaN</td>\n",
       "      <td>NaN</td>\n",
       "      <td>there is a forest fire at spot pond, geese are...</td>\n",
       "    </tr>\n",
       "    <tr>\n",
       "      <th>3</th>\n",
       "      <td>9</td>\n",
       "      <td>NaN</td>\n",
       "      <td>NaN</td>\n",
       "      <td>Apocalypse lighting. #Spokane #wildfires</td>\n",
       "    </tr>\n",
       "    <tr>\n",
       "      <th>4</th>\n",
       "      <td>11</td>\n",
       "      <td>NaN</td>\n",
       "      <td>NaN</td>\n",
       "      <td>Typhoon Soudelor kills 28 in China and Taiwan</td>\n",
       "    </tr>\n",
       "  </tbody>\n",
       "</table>\n",
       "</div>"
      ],
      "text/plain": [
       "   id keyword location                                               text\n",
       "0   0     NaN      NaN                 Just happened a terrible car crash\n",
       "1   2     NaN      NaN  Heard about #earthquake is different cities, s...\n",
       "2   3     NaN      NaN  there is a forest fire at spot pond, geese are...\n",
       "3   9     NaN      NaN           Apocalypse lighting. #Spokane #wildfires\n",
       "4  11     NaN      NaN      Typhoon Soudelor kills 28 in China and Taiwan"
      ]
     },
     "execution_count": 8,
     "metadata": {},
     "output_type": "execute_result"
    }
   ],
   "source": [
    "df_test.head()"
   ]
  },
  {
   "cell_type": "markdown",
   "metadata": {},
   "source": [
    "exploring the dataset\n"
   ]
  },
  {
   "cell_type": "code",
   "execution_count": 9,
   "metadata": {},
   "outputs": [
    {
     "name": "stdout",
     "output_type": "stream",
     "text": [
      "Train Length Stat\n",
      "count    7613.000000\n",
      "mean      101.037436\n",
      "std        33.781325\n",
      "min         7.000000\n",
      "25%        78.000000\n",
      "50%       107.000000\n",
      "75%       133.000000\n",
      "max       157.000000\n",
      "Name: length, dtype: float64\n",
      "\n",
      "Test Length Stat\n",
      "count    3263.000000\n",
      "mean      102.108183\n",
      "std        33.972158\n",
      "min         5.000000\n",
      "25%        78.000000\n",
      "50%       109.000000\n",
      "75%       134.000000\n",
      "max       151.000000\n",
      "Name: length, dtype: float64\n"
     ]
    }
   ],
   "source": [
    "df_train[\"length\"] = df_train[\"text\"].apply(lambda x : len(x))\n",
    "df_test[\"length\"] = df_test[\"text\"].apply(lambda x :len(x))\n",
    "print(\"Train Length Stat\")\n",
    "print(df_train[\"length\"].describe())\n",
    "print()\n",
    "\n",
    "print(\"Test Length Stat\")\n",
    "print(df_test[\"length\"].describe())"
   ]
  },
  {
   "cell_type": "code",
   "execution_count": 10,
   "metadata": {},
   "outputs": [],
   "source": [
    "BATCH_SIZE = 32      #no. of samples that are processed before teh weights are updated\n",
    "NUM_TRAINING_EXAMPLES = df_train.shape[0]\n",
    "TRAIN_SPLIT = 0.8\n",
    "VAL_SPLIT = 0.2 #test set division\n",
    "STEPS_PER_EPOCH = int(NUM_TRAINING_EXAMPLES)*TRAIN_SPLIT//BATCH_SIZE #// is for floor division\n",
    "EPOCHS = 2\n",
    "AUTO = tf.data.experimental.AUTOTUNE"
   ]
  },
  {
   "cell_type": "code",
   "execution_count": 11,
   "metadata": {},
   "outputs": [],
   "source": [
    "from sklearn.model_selection import train_test_split\n",
    "\n",
    "X = df_train[\"text\"]\n",
    "y = df_train[\"target\"]\n",
    "\n",
    "X_train, X_val, y_train, y_val = train_test_split(X, y, test_size=VAL_SPLIT, random_state=42)#random state is fro consistency for the train/validation split\n",
    "#when anyone else try running the same code the split will remain the same\n",
    "X_test = df_test[\"text\"]"
   ]
  },
  {
   "cell_type": "code",
   "execution_count": 14,
   "metadata": {},
   "outputs": [
    {
     "ename": "AttributeError",
     "evalue": "module 'keras_nlp' has no attribute 'models'",
     "output_type": "error",
     "traceback": [
      "\u001b[1;31m---------------------------------------------------------------------------\u001b[0m",
      "\u001b[1;31mAttributeError\u001b[0m                            Traceback (most recent call last)",
      "Cell \u001b[1;32mIn[14], line 4\u001b[0m\n\u001b[0;32m      1\u001b[0m preset\u001b[38;5;241m=\u001b[39m \u001b[38;5;124m\"\u001b[39m\u001b[38;5;124mdistil_bert_base_en_uncased\u001b[39m\u001b[38;5;124m\"\u001b[39m\n\u001b[0;32m      3\u001b[0m \u001b[38;5;66;03m# Use a shorter sequence length.\u001b[39;00m\n\u001b[1;32m----> 4\u001b[0m preprocessor \u001b[38;5;241m=\u001b[39m \u001b[43mkeras_nlp\u001b[49m\u001b[38;5;241;43m.\u001b[39;49m\u001b[43mmodels\u001b[49m\u001b[38;5;241m.\u001b[39mDistilBertPreprocessor\u001b[38;5;241m.\u001b[39mfrom_preset(preset, sequence_length\u001b[38;5;241m=\u001b[39m\u001b[38;5;241m160\u001b[39m,  name\u001b[38;5;241m=\u001b[39m\u001b[38;5;124m\"\u001b[39m\u001b[38;5;124mpreprocessor_4_tweets\u001b[39m\u001b[38;5;124m\"\u001b[39m)\n\u001b[0;32m      5\u001b[0m classifier \u001b[38;5;241m=\u001b[39m keras_nlp\u001b[38;5;241m.\u001b[39mmodels\u001b[38;5;241m.\u001b[39mDistilBertClassifier\u001b[38;5;241m.\u001b[39mfrom_preset(preset,preprocessor \u001b[38;5;241m=\u001b[39m preprocessor, num_classes\u001b[38;5;241m=\u001b[39m\u001b[38;5;241m2\u001b[39m)\n\u001b[0;32m      7\u001b[0m classifier\u001b[38;5;241m.\u001b[39msummary()\n",
      "\u001b[1;31mAttributeError\u001b[0m: module 'keras_nlp' has no attribute 'models'"
     ]
    }
   ],
   "source": [
    "preset= \"distil_bert_base_en_uncased\"\n",
    "\n",
    "# Use a shorter sequence length.\n",
    "preprocessor = keras_nlp.models.DistilBertPreprocessor.from_preset(preset, sequence_length=160,  name=\"preprocessor_4_tweets\")\n",
    "classifier = keras_nlp.models.DistilBertClassifier.from_preset(preset,preprocessor = preprocessor, num_classes=2)\n",
    "\n",
    "classifier.summary()\n",
    "                                                                  "
   ]
  },
  {
   "cell_type": "code",
   "execution_count": 13,
   "metadata": {},
   "outputs": [
    {
     "name": "stdout",
     "output_type": "stream",
     "text": [
      "Requirement already satisfied: keras-nlp in c:\\users\\sreem\\appdata\\local\\programs\\python\\python312\\lib\\site-packages (0.0.2)Note: you may need to restart the kernel to use updated packages.\n",
      "\n",
      "Collecting keras-nlp\n",
      "  Using cached keras_nlp-0.15.1-py3-none-any.whl.metadata (6.7 kB)\n",
      "Requirement already satisfied: absl-py in c:\\users\\sreem\\appdata\\local\\programs\\python\\python312\\lib\\site-packages (from keras-nlp) (2.1.0)\n",
      "Requirement already satisfied: numpy in c:\\users\\sreem\\appdata\\local\\programs\\python\\python312\\lib\\site-packages (from keras-nlp) (1.26.4)\n",
      "Requirement already satisfied: packaging in c:\\users\\sreem\\appdata\\roaming\\python\\python312\\site-packages (from keras-nlp) (24.0)\n",
      "Collecting regex (from keras-nlp)\n",
      "  Using cached regex-2024.9.11-cp312-cp312-win_amd64.whl.metadata (41 kB)\n",
      "Requirement already satisfied: rich in c:\\users\\sreem\\appdata\\local\\programs\\python\\python312\\lib\\site-packages (from keras-nlp) (13.9.1)\n",
      "Collecting kagglehub (from keras-nlp)\n",
      "  Using cached kagglehub-0.3.1-py3-none-any.whl.metadata (22 kB)\n",
      "INFO: pip is looking at multiple versions of keras-nlp to determine which version is compatible with other requirements. This could take a while.\n",
      "Collecting keras-nlp\n",
      "  Using cached keras_nlp-0.15.0-py3-none-any.whl.metadata (6.7 kB)\n",
      "  Using cached keras_nlp-0.14.4-py3-none-any.whl.metadata (6.8 kB)\n",
      "  Using cached keras_nlp-0.14.3-py3-none-any.whl.metadata (6.8 kB)\n",
      "  Using cached keras_nlp-0.14.2-py3-none-any.whl.metadata (6.8 kB)\n",
      "  Using cached keras_nlp-0.14.1-py3-none-any.whl.metadata (6.8 kB)\n",
      "  Using cached keras_nlp-0.14.0-py3-none-any.whl.metadata (6.8 kB)\n",
      "  Using cached keras_nlp-0.12.1-py3-none-any.whl.metadata (6.8 kB)\n",
      "Requirement already satisfied: keras-core in c:\\users\\sreem\\appdata\\local\\programs\\python\\python312\\lib\\site-packages (from keras-nlp) (0.1.7)\n",
      "Requirement already satisfied: dm-tree in c:\\users\\sreem\\appdata\\local\\programs\\python\\python312\\lib\\site-packages (from keras-nlp) (0.1.8)\n",
      "INFO: pip is still looking at multiple versions of keras-nlp to determine which version is compatible with other requirements. This could take a while.\n",
      "  Using cached keras_nlp-0.12.0-py3-none-any.whl.metadata (6.8 kB)\n",
      "  Using cached keras_nlp-0.11.1-py3-none-any.whl.metadata (6.8 kB)\n",
      "  Using cached keras_nlp-0.11.0-py3-none-any.whl.metadata (6.8 kB)\n",
      "  Using cached keras_nlp-0.10.0-py3-none-any.whl.metadata (7.0 kB)\n",
      "  Using cached keras_nlp-0.9.3-py3-none-any.whl.metadata (7.0 kB)\n",
      "INFO: This is taking longer than usual. You might need to provide the dependency resolver with stricter constraints to reduce runtime. See https://pip.pypa.io/warnings/backtracking for guidance. If you want to abort this run, press Ctrl + C.\n",
      "  Using cached keras_nlp-0.9.2-py3-none-any.whl.metadata (7.0 kB)\n",
      "  Using cached keras_nlp-0.9.1-py3-none-any.whl.metadata (7.0 kB)\n",
      "  Using cached keras_nlp-0.9.0-py3-none-any.whl.metadata (7.0 kB)\n",
      "  Using cached keras_nlp-0.8.2-py3-none-any.whl.metadata (7.0 kB)\n",
      "  Using cached keras_nlp-0.8.1-py3-none-any.whl.metadata (7.0 kB)\n",
      "  Using cached keras_nlp-0.8.0-py3-none-any.whl.metadata (7.0 kB)\n",
      "  Using cached keras_nlp-0.7.0-py3-none-any.whl.metadata (7.0 kB)\n",
      "  Using cached keras_nlp-0.6.4-py3-none-any.whl.metadata (8.5 kB)\n",
      "  Using cached keras_nlp-0.6.3-py3-none-any.whl.metadata (7.2 kB)\n",
      "  Using cached keras_nlp-0.6.2-py3-none-any.whl.metadata (7.2 kB)\n",
      "  Using cached keras_nlp-0.6.1-py3-none-any.whl.metadata (7.2 kB)\n",
      "  Using cached keras_nlp-0.6.0-py3-none-any.whl.metadata (5.7 kB)\n",
      "  Using cached keras_nlp-0.5.2-py3-none-any.whl.metadata (5.7 kB)\n",
      "  Using cached keras_nlp-0.5.1-py3-none-any.whl.metadata (5.7 kB)\n",
      "  Using cached keras_nlp-0.5.0-py3-none-any.whl.metadata (5.7 kB)\n",
      "  Using cached keras_nlp-0.4.1-py3-none-any.whl.metadata (5.9 kB)\n",
      "  Using cached keras_nlp-0.4.0-py3-none-any.whl.metadata (6.4 kB)\n",
      "Requirement already satisfied: tensorflow in c:\\users\\sreem\\appdata\\local\\programs\\python\\python312\\lib\\site-packages (from keras-nlp) (2.17.0)\n",
      "  Using cached keras_nlp-0.3.1-py3-none-any.whl.metadata (5.2 kB)\n",
      "  Using cached keras_nlp-0.3.0-py3-none-any.whl.metadata (5.1 kB)\n",
      "  Using cached keras_nlp-0.2.0-py3-none-any.whl.metadata (4.8 kB)\n",
      "  Using cached keras_nlp-0.1.1-py3-none-any.whl.metadata (4.3 kB)\n",
      "  Using cached keras_nlp-0.1.0-py3-none-any.whl.metadata (4.3 kB)\n",
      "Requirement already satisfied: tf-nightly in c:\\users\\sreem\\appdata\\local\\programs\\python\\python312\\lib\\site-packages (from keras-nlp) (2.19.0.dev20241001)\n",
      "Requirement already satisfied: tf-nightly-intel==2.19.0-dev20241001 in c:\\users\\sreem\\appdata\\local\\programs\\python\\python312\\lib\\site-packages (from tf-nightly->keras-nlp) (2.19.0.dev20241001)\n",
      "Requirement already satisfied: astunparse>=1.6.0 in c:\\users\\sreem\\appdata\\local\\programs\\python\\python312\\lib\\site-packages (from tf-nightly-intel==2.19.0-dev20241001->tf-nightly->keras-nlp) (1.6.3)\n",
      "Requirement already satisfied: flatbuffers>=24.3.25 in c:\\users\\sreem\\appdata\\local\\programs\\python\\python312\\lib\\site-packages (from tf-nightly-intel==2.19.0-dev20241001->tf-nightly->keras-nlp) (24.3.25)\n",
      "Requirement already satisfied: gast!=0.5.0,!=0.5.1,!=0.5.2,>=0.2.1 in c:\\users\\sreem\\appdata\\local\\programs\\python\\python312\\lib\\site-packages (from tf-nightly-intel==2.19.0-dev20241001->tf-nightly->keras-nlp) (0.6.0)\n",
      "Requirement already satisfied: google-pasta>=0.1.1 in c:\\users\\sreem\\appdata\\local\\programs\\python\\python312\\lib\\site-packages (from tf-nightly-intel==2.19.0-dev20241001->tf-nightly->keras-nlp) (0.2.0)\n",
      "Requirement already satisfied: libclang>=13.0.0 in c:\\users\\sreem\\appdata\\local\\programs\\python\\python312\\lib\\site-packages (from tf-nightly-intel==2.19.0-dev20241001->tf-nightly->keras-nlp) (18.1.1)\n",
      "Requirement already satisfied: opt-einsum>=2.3.2 in c:\\users\\sreem\\appdata\\local\\programs\\python\\python312\\lib\\site-packages (from tf-nightly-intel==2.19.0-dev20241001->tf-nightly->keras-nlp) (3.4.0)\n",
      "Requirement already satisfied: protobuf!=4.21.0,!=4.21.1,!=4.21.2,!=4.21.3,!=4.21.4,!=4.21.5,<6.0.0dev,>=3.20.3 in c:\\users\\sreem\\appdata\\local\\programs\\python\\python312\\lib\\site-packages (from tf-nightly-intel==2.19.0-dev20241001->tf-nightly->keras-nlp) (4.25.5)\n",
      "Requirement already satisfied: requests<3,>=2.21.0 in c:\\users\\sreem\\appdata\\local\\programs\\python\\python312\\lib\\site-packages (from tf-nightly-intel==2.19.0-dev20241001->tf-nightly->keras-nlp) (2.32.3)\n",
      "Requirement already satisfied: setuptools in c:\\users\\sreem\\appdata\\local\\programs\\python\\python312\\lib\\site-packages (from tf-nightly-intel==2.19.0-dev20241001->tf-nightly->keras-nlp) (75.1.0)\n",
      "Requirement already satisfied: six>=1.12.0 in c:\\users\\sreem\\appdata\\roaming\\python\\python312\\site-packages (from tf-nightly-intel==2.19.0-dev20241001->tf-nightly->keras-nlp) (1.16.0)\n",
      "Requirement already satisfied: termcolor>=1.1.0 in c:\\users\\sreem\\appdata\\local\\programs\\python\\python312\\lib\\site-packages (from tf-nightly-intel==2.19.0-dev20241001->tf-nightly->keras-nlp) (2.4.0)\n",
      "Requirement already satisfied: typing-extensions>=3.6.6 in c:\\users\\sreem\\appdata\\local\\programs\\python\\python312\\lib\\site-packages (from tf-nightly-intel==2.19.0-dev20241001->tf-nightly->keras-nlp) (4.12.1)\n",
      "Requirement already satisfied: wrapt>=1.11.0 in c:\\users\\sreem\\appdata\\local\\programs\\python\\python312\\lib\\site-packages (from tf-nightly-intel==2.19.0-dev20241001->tf-nightly->keras-nlp) (1.16.0)\n",
      "Requirement already satisfied: grpcio<2.0,>=1.24.3 in c:\\users\\sreem\\appdata\\local\\programs\\python\\python312\\lib\\site-packages (from tf-nightly-intel==2.19.0-dev20241001->tf-nightly->keras-nlp) (1.66.2)\n",
      "Requirement already satisfied: tb-nightly~=2.18.0.a in c:\\users\\sreem\\appdata\\local\\programs\\python\\python312\\lib\\site-packages (from tf-nightly-intel==2.19.0-dev20241001->tf-nightly->keras-nlp) (2.18.0a20240925)\n",
      "Requirement already satisfied: keras-nightly>=3.2.0.dev in c:\\users\\sreem\\appdata\\local\\programs\\python\\python312\\lib\\site-packages (from tf-nightly-intel==2.19.0-dev20241001->tf-nightly->keras-nlp) (3.6.0.dev2024100203)\n",
      "Requirement already satisfied: h5py>=3.11.0 in c:\\users\\sreem\\appdata\\local\\programs\\python\\python312\\lib\\site-packages (from tf-nightly-intel==2.19.0-dev20241001->tf-nightly->keras-nlp) (3.12.1)\n",
      "Requirement already satisfied: ml-dtypes<0.5.0,>=0.4.0 in c:\\users\\sreem\\appdata\\local\\programs\\python\\python312\\lib\\site-packages (from tf-nightly-intel==2.19.0-dev20241001->tf-nightly->keras-nlp) (0.4.1)\n",
      "Requirement already satisfied: wheel<1.0,>=0.23.0 in c:\\users\\sreem\\appdata\\local\\programs\\python\\python312\\lib\\site-packages (from astunparse>=1.6.0->tf-nightly-intel==2.19.0-dev20241001->tf-nightly->keras-nlp) (0.44.0)\n",
      "Requirement already satisfied: namex in c:\\users\\sreem\\appdata\\local\\programs\\python\\python312\\lib\\site-packages (from keras-nightly>=3.2.0.dev->tf-nightly-intel==2.19.0-dev20241001->tf-nightly->keras-nlp) (0.0.8)\n",
      "Requirement already satisfied: optree in c:\\users\\sreem\\appdata\\local\\programs\\python\\python312\\lib\\site-packages (from keras-nightly>=3.2.0.dev->tf-nightly-intel==2.19.0-dev20241001->tf-nightly->keras-nlp) (0.12.1)\n",
      "Requirement already satisfied: charset-normalizer<4,>=2 in c:\\users\\sreem\\appdata\\local\\programs\\python\\python312\\lib\\site-packages (from requests<3,>=2.21.0->tf-nightly-intel==2.19.0-dev20241001->tf-nightly->keras-nlp) (3.3.2)\n",
      "Requirement already satisfied: idna<4,>=2.5 in c:\\users\\sreem\\appdata\\local\\programs\\python\\python312\\lib\\site-packages (from requests<3,>=2.21.0->tf-nightly-intel==2.19.0-dev20241001->tf-nightly->keras-nlp) (3.7)\n",
      "Requirement already satisfied: urllib3<3,>=1.21.1 in c:\\users\\sreem\\appdata\\local\\programs\\python\\python312\\lib\\site-packages (from requests<3,>=2.21.0->tf-nightly-intel==2.19.0-dev20241001->tf-nightly->keras-nlp) (2.2.1)\n",
      "Requirement already satisfied: certifi>=2017.4.17 in c:\\users\\sreem\\appdata\\local\\programs\\python\\python312\\lib\\site-packages (from requests<3,>=2.21.0->tf-nightly-intel==2.19.0-dev20241001->tf-nightly->keras-nlp) (2024.6.2)\n",
      "Requirement already satisfied: markdown>=2.6.8 in c:\\users\\sreem\\appdata\\local\\programs\\python\\python312\\lib\\site-packages (from tb-nightly~=2.18.0.a->tf-nightly-intel==2.19.0-dev20241001->tf-nightly->keras-nlp) (3.7)\n",
      "Requirement already satisfied: tensorboard-data-server<0.8.0,>=0.7.0 in c:\\users\\sreem\\appdata\\local\\programs\\python\\python312\\lib\\site-packages (from tb-nightly~=2.18.0.a->tf-nightly-intel==2.19.0-dev20241001->tf-nightly->keras-nlp) (0.7.2)\n",
      "Requirement already satisfied: werkzeug>=1.0.1 in c:\\users\\sreem\\appdata\\local\\programs\\python\\python312\\lib\\site-packages (from tb-nightly~=2.18.0.a->tf-nightly-intel==2.19.0-dev20241001->tf-nightly->keras-nlp) (3.0.4)\n",
      "Requirement already satisfied: MarkupSafe>=2.1.1 in c:\\users\\sreem\\appdata\\local\\programs\\python\\python312\\lib\\site-packages (from werkzeug>=1.0.1->tb-nightly~=2.18.0.a->tf-nightly-intel==2.19.0-dev20241001->tf-nightly->keras-nlp) (2.1.5)\n",
      "Requirement already satisfied: markdown-it-py>=2.2.0 in c:\\users\\sreem\\appdata\\local\\programs\\python\\python312\\lib\\site-packages (from rich->keras-nlp) (3.0.0)\n",
      "Requirement already satisfied: pygments<3.0.0,>=2.13.0 in c:\\users\\sreem\\appdata\\roaming\\python\\python312\\site-packages (from rich->keras-nlp) (2.18.0)\n",
      "Requirement already satisfied: mdurl~=0.1 in c:\\users\\sreem\\appdata\\local\\programs\\python\\python312\\lib\\site-packages (from markdown-it-py>=2.2.0->rich->keras-nlp) (0.1.2)\n"
     ]
    }
   ],
   "source": [
    "pip install --upgrade keras-nlp\n"
   ]
  }
 ],
 "metadata": {
  "kernelspec": {
   "display_name": "Python 3",
   "language": "python",
   "name": "python3"
  },
  "language_info": {
   "codemirror_mode": {
    "name": "ipython",
    "version": 3
   },
   "file_extension": ".py",
   "mimetype": "text/x-python",
   "name": "python",
   "nbconvert_exporter": "python",
   "pygments_lexer": "ipython3",
   "version": "3.12.3"
  }
 },
 "nbformat": 4,
 "nbformat_minor": 2
}
